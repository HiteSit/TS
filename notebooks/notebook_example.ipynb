{
 "cells": [
  {
   "cell_type": "code",
   "outputs": [],
   "source": [
    "import os\n",
    "import sys\n",
    "import json\n",
    "from pathlib import Path\n",
    "from typing import Dict, Any, List, Union, Optional\n",
    "from src.ts_utils import construct_json\n",
    "from src.ts_main import run_ts, parse_input_dict"
   ],
   "metadata": {
    "collapsed": false
   },
   "id": "d825bd111d74daa2",
   "execution_count": null
  },
  {
   "cell_type": "code",
   "outputs": [],
   "source": [
    "TS_BASE_DIR = \"..\""
   ],
   "metadata": {
    "collapsed": false
   },
   "id": "70a606832b58a2b7",
   "execution_count": null
  },
  {
   "cell_type": "markdown",
   "source": [
    "# Example 1"
   ],
   "metadata": {
    "collapsed": false
   },
   "id": "89355398a89e4c21"
  },
  {
   "cell_type": "code",
   "outputs": [],
   "source": [
    "reag_smiles = [Path(TS_BASE_DIR) / \"data\" / \"aminobenzoic_100.smi\",\n",
    "               Path(TS_BASE_DIR) / \"data\" / \"primary_amines_100.smi\",\n",
    "               Path(TS_BASE_DIR) / \"data\" / \"carboxylic_acids_100.smi\"]\n",
    "reaction = \"N[c:4][c:3]C(O)=O.[#6:1][NH2].[#6:2]C(=O)[OH]>>[C:2]c1n[c:4][c:3]c(=O)n1[C:1]\"\n",
    "evaluator_args = {\"query_smiles\" : \"COc1cccc2c(=O)n([C@@H]3C[C@@H](O)[C@@H](O)C3)c([C@@H](N)CNC(N)=O)nc12\"}\n",
    "\n",
    "quinazoline_dict = construct_json(reag_smiles, reaction, evaluator_args=evaluator_args)"
   ],
   "metadata": {
    "collapsed": false
   },
   "id": "75834308abb056a8",
   "execution_count": null
  },
  {
   "cell_type": "code",
   "outputs": [],
   "source": [
    "parse_input_dict(quinazoline_dict)\n",
    "q_df = run_ts(quinazoline_dict, inline_log=True, save_output=False)"
   ],
   "metadata": {
    "collapsed": false
   },
   "id": "4cd0597f451c2af",
   "execution_count": null
  },
  {
   "cell_type": "markdown",
   "source": [
    "# Example 2"
   ],
   "metadata": {
    "collapsed": false
   },
   "id": "bc6f23701fdd92a3"
  },
  {
   "cell_type": "code",
   "outputs": [],
   "source": [
    "reag_smiles: List[Path] = [\n",
    "    Path(TS_BASE_DIR) / \"data\" / \"data_ric\" / \"ald.smi\",\n",
    "    Path(TS_BASE_DIR) / \"data\" / \"data_ric\" / \"ammines.smi\"\n",
    "]\n",
    "reaction: Path = Path(TS_BASE_DIR) / \"data\" / \"data_ric\" / \"reaction.rxn\"\n",
    "evaluator_args = {\"query_smiles\" : \"OC(=O)c1ccc2nc(CN3CCC(CC3)c3cccc(OCc4ccc(cc4F)C#N)n3)n(C[C@@H]3CCO3)c2c1\"}\n",
    "\n",
    "custom_dict = construct_json(reag_smiles, reaction, evaluator_args=evaluator_args)"
   ],
   "metadata": {
    "collapsed": false
   },
   "id": "b9ffe00c0fc9687a",
   "execution_count": null
  },
  {
   "cell_type": "code",
   "outputs": [],
   "source": [
    "parse_input_dict(custom_dict)\n",
    "c_df = run_ts(custom_dict, inline_log=True, save_output=False)"
   ],
   "metadata": {
    "collapsed": false
   },
   "id": "8af47792f69ab6c3",
   "execution_count": null
  },
  {
   "cell_type": "markdown",
   "source": [
    "# Example 3"
   ],
   "metadata": {
    "collapsed": false
   },
   "id": "c5c5948baa657432"
  },
  {
   "cell_type": "code",
   "outputs": [],
   "source": [
    "reag_smiles: List[Path] = [\n",
    "    Path(TS_BASE_DIR) / \"data\" / \"data_ric\" / \"ald.smi\",\n",
    "    Path(TS_BASE_DIR) / \"data\" / \"data_ric\" / \"ammines.smi\"\n",
    "]\n",
    "\n",
    "reaction: Path = Path(TS_BASE_DIR) / \"data\" / \"data_ric\" / \"reaction.rxn\"\n",
    "\n",
    "probe_sdf = Path(TS_BASE_DIR) / \"data\" / \"data_ric\" / \"crystal.sdf\"\n",
    "evaluator_args = {\"query_molfile\" : str(probe_sdf)}\n",
    "\n",
    "custom_dict = construct_json(reag_smiles, reaction, evaluator_args=evaluator_args, evaluator_class=\"ROCSEvaluator\")"
   ],
   "metadata": {
    "collapsed": false
   },
   "id": "a7f91f2ff8ce4e77",
   "execution_count": null
  },
  {
   "cell_type": "code",
   "outputs": [],
   "source": [
    "parse_input_dict(custom_dict)"
   ],
   "metadata": {
    "collapsed": false
   },
   "id": "8a057933d93471d9",
   "execution_count": null
  },
  {
   "cell_type": "code",
   "outputs": [],
   "source": [
    "rocm_df = run_ts(custom_dict, inline_log=True, save_output=False)"
   ],
   "metadata": {
    "collapsed": false
   },
   "id": "d04593a27fbe019"
  },
  {
   "cell_type": "code",
   "outputs": [],
   "source": [],
   "metadata": {
    "collapsed": false
   },
   "id": "49390172fc1ebfc6"
  }
 ],
 "metadata": {
  "kernelspec": {
   "display_name": "Python 3",
   "language": "python",
   "name": "python3"
  },
  "language_info": {
   "codemirror_mode": {
    "name": "ipython",
    "version": 2
   },
   "file_extension": ".py",
   "mimetype": "text/x-python",
   "name": "python",
   "nbconvert_exporter": "python",
   "pygments_lexer": "ipython2",
   "version": "2.7.6"
  }
 },
 "nbformat": 4,
 "nbformat_minor": 5
}
