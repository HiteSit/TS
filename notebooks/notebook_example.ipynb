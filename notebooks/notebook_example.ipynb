{
 "cells": [
  {
   "cell_type": "code",
   "execution_count": 1,
   "id": "d825bd111d74daa2",
   "metadata": {
    "collapsed": false
   },
   "outputs": [],
   "source": [
    "import os\n",
    "import sys\n",
    "import json\n",
    "from pathlib import Path\n",
    "from typing import Dict, Any, List, Union, Optional, Tuple\n",
    "\n",
    "# Add parent directory to Python path so we can import from src\n",
    "sys.path.insert(0, os.path.abspath('..'))\n",
    "\n",
    "import datamol as dm\n",
    "from rdkit import Chem\n",
    "\n",
    "from src.thompson_sampling import BaseReaction\n",
    "from src.ts_utils import construct_json\n",
    "from src.ts_main import run_ts, parse_input_dict"
   ]
  },
  {
   "cell_type": "code",
   "execution_count": 2,
   "id": "70a606832b58a2b7",
   "metadata": {
    "collapsed": false
   },
   "outputs": [],
   "source": [
    "TS_BASE_DIR = \"..\""
   ]
  },
  {
   "cell_type": "code",
   "execution_count": null,
   "id": "b27f53972d88e7a1",
   "metadata": {
    "collapsed": false
   },
   "outputs": [],
   "source": []
  },
  {
   "cell_type": "markdown",
   "id": "89355398a89e4c21",
   "metadata": {
    "collapsed": false
   },
   "source": [
    "# Example 1"
   ]
  },
  {
   "cell_type": "code",
   "execution_count": 3,
   "id": "75834308abb056a8",
   "metadata": {
    "collapsed": false
   },
   "outputs": [],
   "source": [
    "reag_smiles = [Path(TS_BASE_DIR) / \"data\" / \"aminobenzoic_100.smi\",\n",
    "               Path(TS_BASE_DIR) / \"data\" / \"primary_amines_100.smi\",\n",
    "               Path(TS_BASE_DIR) / \"data\" / \"carboxylic_acids_100.smi\"]\n",
    "reaction = \"N[c:4][c:3]C(O)=O.[#6:1][NH2].[#6:2]C(=O)[OH]>>[C:2]c1n[c:4][c:3]c(=O)n1[C:1]\"\n",
    "evaluator_args = {\"query_smiles\" : \"COc1cccc2c(=O)n([C@@H]3C[C@@H](O)[C@@H](O)C3)c([C@@H](N)CNC(N)=O)nc12\"}\n",
    "\n",
    "quinazoline_dict = construct_json(reag_smiles, reaction, evaluator_args=evaluator_args)"
   ]
  },
  {
   "cell_type": "code",
   "execution_count": null,
   "id": "4cd0597f451c2af",
   "metadata": {
    "collapsed": false
   },
   "outputs": [],
   "source": [
    "parse_input_dict(quinazoline_dict)\n",
    "q_df = run_ts(quinazoline_dict, inline_log=True, save_output=False)"
   ]
  },
  {
   "cell_type": "markdown",
   "id": "bc6f23701fdd92a3",
   "metadata": {
    "collapsed": false
   },
   "source": [
    "# Example 2"
   ]
  },
  {
   "cell_type": "code",
   "execution_count": null,
   "id": "b9ffe00c0fc9687a",
   "metadata": {
    "collapsed": false
   },
   "outputs": [],
   "source": [
    "reag_smiles: List[Path] = [\n",
    "    Path(TS_BASE_DIR) / \"data\" / \"data_ric\" / \"ald.smi\",\n",
    "    Path(TS_BASE_DIR) / \"data\" / \"data_ric\" / \"ammines.smi\"\n",
    "]\n",
    "reaction: Path = Path(TS_BASE_DIR) / \"data\" / \"data_ric\" / \"reaction.rxn\"\n",
    "evaluator_args = {\"query_smiles\" : \"OC(=O)c1ccc2nc(CN3CCC(CC3)c3cccc(OCc4ccc(cc4F)C#N)n3)n(C[C@@H]3CCO3)c2c1\"}\n",
    "\n",
    "custom_dict = construct_json(reag_smiles, reaction, evaluator_args=evaluator_args)"
   ]
  },
  {
   "cell_type": "code",
   "execution_count": null,
   "id": "8af47792f69ab6c3",
   "metadata": {
    "collapsed": false
   },
   "outputs": [],
   "source": [
    "parse_input_dict(custom_dict)\n",
    "c_df = run_ts(custom_dict, inline_log=True, save_output=False)"
   ]
  },
  {
   "cell_type": "markdown",
   "id": "c5c5948baa657432",
   "metadata": {
    "collapsed": false
   },
   "source": [
    "# Example 3"
   ]
  },
  {
   "cell_type": "code",
   "execution_count": null,
   "id": "a7f91f2ff8ce4e77",
   "metadata": {
    "collapsed": false
   },
   "outputs": [],
   "source": [
    "reag_smiles: List[Path] = [\n",
    "    Path(TS_BASE_DIR) / \"data\" / \"data_ric\" / \"ald.smi\",\n",
    "    Path(TS_BASE_DIR) / \"data\" / \"data_ric\" / \"ammines.smi\"\n",
    "]\n",
    "\n",
    "reaction: Path = Path(TS_BASE_DIR) / \"data\" / \"data_ric\" / \"reaction.rxn\"\n",
    "\n",
    "probe_sdf = Path(TS_BASE_DIR) / \"data\" / \"data_ric\" / \"crystal.sdf\"\n",
    "evaluator_args = {\"query_molfile\" : str(probe_sdf)}\n",
    "\n",
    "custom_dict = construct_json(reag_smiles, reaction, evaluator_args=evaluator_args, evaluator_class=\"ROCSEvaluator\")"
   ]
  },
  {
   "cell_type": "code",
   "execution_count": null,
   "id": "8a057933d93471d9",
   "metadata": {
    "collapsed": false
   },
   "outputs": [],
   "source": [
    "parse_input_dict(custom_dict)"
   ]
  },
  {
   "cell_type": "code",
   "execution_count": null,
   "id": "d04593a27fbe019",
   "metadata": {
    "collapsed": false
   },
   "outputs": [],
   "source": [
    "rocm_df = run_ts(custom_dict, inline_log=True, save_output=False)"
   ]
  },
  {
   "cell_type": "code",
   "execution_count": null,
   "id": "c257dc052624b74",
   "metadata": {
    "collapsed": false
   },
   "outputs": [],
   "source": []
  },
  {
   "cell_type": "markdown",
   "id": "92ba90abe4f0e363",
   "metadata": {
    "collapsed": false
   },
   "source": [
    "# Example 4"
   ]
  },
  {
   "cell_type": "code",
   "execution_count": 3,
   "id": "72799761f7f29a92",
   "metadata": {
    "collapsed": false
   },
   "outputs": [],
   "source": [
    "class MyReact(BaseReaction):\n",
    "    def run_reaction(self, reagents: List[Chem.Mol]) -> Tuple[List[Chem.Mol]]:\n",
    "        rxn = dm.reactions.rxn_from_smarts(\"N[c:4][c:3]C(O)=O.[#6:1][NH2].[#6:2]C(=O)[OH]>>[C:2]c1n[c:4][c:3]c(=O)n1[C:1]\")\n",
    "        prod = rxn.RunReactants(reagents)\n",
    "        return prod"
   ]
  },
  {
   "cell_type": "code",
   "execution_count": 4,
   "id": "7dd84d6d2ae42d35",
   "metadata": {
    "collapsed": false
   },
   "outputs": [],
   "source": [
    "reag_smiles = [Path(TS_BASE_DIR) / \"data\" / \"aminobenzoic_100.smi\",\n",
    "               Path(TS_BASE_DIR) / \"data\" / \"primary_amines_100.smi\",\n",
    "               Path(TS_BASE_DIR) / \"data\" / \"carboxylic_acids_100.smi\"]\n",
    "\n",
    "evaluator_args = {\"query_smiles\" : \"CC1=CC=CC(=C1)C(NC(=O)C=C)C(=O)NCC1=CC=CC(OCC2=CC=CC=C2)=C1\"}\n",
    "\n",
    "quinazoline_dict = construct_json(reag_smiles, MyReact(), evaluator_args=evaluator_args)"
   ]
  },
  {
   "cell_type": "code",
   "execution_count": 5,
   "id": "716a2746f43bb11a",
   "metadata": {
    "collapsed": false
   },
   "outputs": [],
   "source": [
    "parse_input_dict(quinazoline_dict)"
   ]
  },
  {
   "cell_type": "code",
   "execution_count": null,
   "id": "1802207bd70c8e54",
   "metadata": {
    "collapsed": false
   },
   "outputs": [],
   "source": [
    "run_ts(quinazoline_dict, inline_log=False, save_output=False)"
   ]
  },
  {
   "cell_type": "markdown",
   "id": "fa19d4dba3d2d0f1",
   "metadata": {
    "collapsed": false
   },
   "source": [
    "# Example 5"
   ]
  },
  {
   "cell_type": "code",
   "execution_count": null,
   "id": "dd408bc6e150cf8",
   "metadata": {
    "collapsed": false
   },
   "outputs": [],
   "source": [
    "class MyReact(BaseReaction):\n",
    "    def run_reaction(self, reagents: List[Chem.Mol]) -> Tuple[List[Chem.Mol]]:\n",
    "        reaction: Path = Path(TS_BASE_DIR) / \"data\" / \"data_ric\" / \"reaction.rxn\"\n",
    "        \n",
    "        rxn = dm.reactions.rxn_from_block_file(str(reaction))\n",
    "        prod = rxn.RunReactants(reagents)\n",
    "        return prod"
   ]
  },
  {
   "cell_type": "code",
   "execution_count": null,
   "id": "ee54d067fd8c5ca4",
   "metadata": {
    "collapsed": false
   },
   "outputs": [],
   "source": [
    "reag_smiles: List[Path] = [\n",
    "    Path(TS_BASE_DIR) / \"data\" / \"data_ric\" / \"ald.smi\",\n",
    "    Path(TS_BASE_DIR) / \"data\" / \"data_ric\" / \"ammines.smi\"\n",
    "]"
   ]
  },
  {
   "cell_type": "code",
   "execution_count": null,
   "id": "cd0313d8fea2efd",
   "metadata": {
    "collapsed": false
   },
   "outputs": [],
   "source": [
    "probe_sdf = Path(TS_BASE_DIR) / \"data\" / \"data_ric\" / \"crystal.sdf\"\n",
    "evaluator_args = {\"query_molfile\" : str(probe_sdf)}\n",
    "\n",
    "custom_dict = construct_json(reag_smiles, MyReact(), evaluator_args=evaluator_args, evaluator_class=\"ROCSEvaluator\")"
   ]
  },
  {
   "cell_type": "code",
   "execution_count": null,
   "id": "eb311e04ed3ab319",
   "metadata": {
    "collapsed": false
   },
   "outputs": [],
   "source": [
    "parse_input_dict(custom_dict)"
   ]
  },
  {
   "cell_type": "code",
   "execution_count": null,
   "id": "5da2c76678b80e41",
   "metadata": {
    "collapsed": false
   },
   "outputs": [],
   "source": [
    "rocm_df = run_ts(custom_dict, inline_log=True, save_output=False)"
   ]
  },
  {
   "cell_type": "code",
   "execution_count": null,
   "id": "925786a88db955d3",
   "metadata": {
    "collapsed": false
   },
   "outputs": [],
   "source": []
  }
 ],
 "metadata": {
  "kernelspec": {
   "display_name": "cheminf_3_11",
   "language": "python",
   "name": "python3"
  },
  "language_info": {
   "codemirror_mode": {
    "name": "ipython",
    "version": 3
   },
   "file_extension": ".py",
   "mimetype": "text/x-python",
   "name": "python",
   "nbconvert_exporter": "python",
   "pygments_lexer": "ipython3",
   "version": "3.11.8"
  }
 },
 "nbformat": 4,
 "nbformat_minor": 5
}
