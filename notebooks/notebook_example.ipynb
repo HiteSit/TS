{
 "cells": [
  {
   "cell_type": "code",
   "outputs": [],
   "source": [
    "import os\n",
    "import sys\n",
    "import json\n",
    "from src.ts_main import run_ts, parse_input_dict"
   ],
   "metadata": {
    "collapsed": false
   },
   "id": "d825bd111d74daa2",
   "execution_count": null
  },
  {
   "cell_type": "code",
   "outputs": [],
   "source": [
    "TS_BASE_DIR = \"..\""
   ],
   "metadata": {
    "collapsed": false
   },
   "id": "70a606832b58a2b7",
   "execution_count": null
  },
  {
   "cell_type": "markdown",
   "source": [
    "# Example 1"
   ],
   "metadata": {
    "collapsed": false
   },
   "id": "11a63627a5b6a234"
  },
  {
   "cell_type": "code",
   "execution_count": null,
   "id": "initial_id",
   "metadata": {
    "collapsed": true
   },
   "outputs": [],
   "source": [
    "quinazoline_json = \"\"\"{\n",
    "\"reagent_file_list\": [\n",
    "        \"TS_BASE_DIR/data/aminobenzoic_100.smi\",\n",
    "        \"TS_BASE_DIR/data/primary_amines_100.smi\",\n",
    "        \"TS_BASE_DIR/data/carboxylic_acids_100.smi\"\n",
    "    ],\n",
    "    \"reaction_smarts\": \"N[c:4][c:3]C(O)=O.[#6:1][NH2].[#6:2]C(=O)[OH]>>[C:2]c1n[c:4][c:3]c(=O)n1[C:1]\",\n",
    "    \"num_warmup_trials\": 10,\n",
    "    \"num_ts_iterations\": 5000,\n",
    "    \"evaluator_class_name\": \"FPEvaluator\",\n",
    "    \"evaluator_arg\": {\"query_smiles\" : \"COc1cccc2c(=O)n([C@@H]3C[C@@H](O)[C@@H](O)C3)c([C@@H](N)CNC(N)=O)nc12\"},\n",
    "    \"ts_mode\": \"maximize\",\n",
    "    \"log_filename\": \"ts_logs.txt\",\n",
    "    \"results_filename\": \"ts_results.csv\"\n",
    "}\"\"\".replace(\"TS_BASE_DIR\", TS_BASE_DIR)"
   ]
  },
  {
   "cell_type": "code",
   "outputs": [],
   "source": [
    "quinazoline_dict = json.loads(quinazoline_json)\n",
    "parse_input_dict(quinazoline_dict)"
   ],
   "metadata": {
    "collapsed": false
   },
   "id": "99848d076f8e8d83",
   "execution_count": null
  },
  {
   "cell_type": "code",
   "outputs": [],
   "source": [
    "run_ts(quinazoline_dict, inline_log=True, save_output=False)"
   ],
   "metadata": {
    "collapsed": false
   },
   "id": "bd8c508f41d96f18",
   "execution_count": null
  },
  {
   "cell_type": "markdown",
   "source": [
    "# Example 2"
   ],
   "metadata": {
    "collapsed": false
   },
   "id": "f7cdc8f410362809"
  },
  {
   "cell_type": "code",
   "outputs": [],
   "source": [
    "custom_json = \"\"\"{\n",
    "\"reagent_file_list\": [\n",
    "        \"TS_BASE_DIR/data/data_ric/ald.smi\",\n",
    "        \"TS_BASE_DIR/data/data_ric/ammines.smi\"\n",
    "    ],\n",
    "    \"reaction_smarts\": \"[#6:1]-[#6H1:4]=O.[#6:3]-[#7H2:2]>>[#6:3]-[#7:2]-[#6]-1=[#6](-[#6]=[#6]-[#6]-2=[#7]-[#6](-[#6]-[#7]-3-[#6]-[#6]-[#6](-[#6]-[#6]-3)-[#7]-3-[#6]=[#7]-[#6]=[#6:4]-3-[#6:1])=[#6]-[#7]-1-2)-[#6]-1=[#7]-[#7]=[#7]-[#7]-1\",\n",
    "    \"num_warmup_trials\": 10,\n",
    "    \"num_ts_iterations\": 5000,\n",
    "    \"evaluator_class_name\": \"FPEvaluator\",\n",
    "    \"evaluator_arg\": {\"query_smiles\" : \"OC(=O)c1ccc2nc(CN3CCC(CC3)c3cccc(OCc4ccc(cc4F)C#N)n3)n(C[C@@H]3CCO3)c2c1\"},\n",
    "    \"ts_mode\": \"maximize\",\n",
    "    \"log_filename\": \"ts_logs.txt\",\n",
    "    \"results_filename\": \"ts_results.csv\"\n",
    "}\"\"\".replace(\"TS_BASE_DIR\", TS_BASE_DIR)"
   ],
   "metadata": {
    "collapsed": false
   },
   "id": "be6a4cf72e4a8a65",
   "execution_count": null
  },
  {
   "cell_type": "code",
   "outputs": [],
   "source": [
    "custom_dict = json.loads(custom_json)\n",
    "parse_input_dict(custom_dict)"
   ],
   "metadata": {
    "collapsed": false
   },
   "id": "60bdd653361ec9ac",
   "execution_count": null
  },
  {
   "cell_type": "code",
   "outputs": [],
   "source": [
    "run_ts(custom_dict, inline_log=True, save_output=False)"
   ],
   "metadata": {
    "collapsed": false
   },
   "id": "caa66fdcba02131a",
   "execution_count": null
  },
  {
   "cell_type": "code",
   "outputs": [],
   "source": [],
   "metadata": {
    "collapsed": false
   },
   "id": "653cfa12ef44a132"
  }
 ],
 "metadata": {
  "kernelspec": {
   "display_name": "Python 3",
   "language": "python",
   "name": "python3"
  },
  "language_info": {
   "codemirror_mode": {
    "name": "ipython",
    "version": 2
   },
   "file_extension": ".py",
   "mimetype": "text/x-python",
   "name": "python",
   "nbconvert_exporter": "python",
   "pygments_lexer": "ipython2",
   "version": "2.7.6"
  }
 },
 "nbformat": 4,
 "nbformat_minor": 5
}
