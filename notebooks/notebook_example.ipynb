{
 "cells": [
  {
   "cell_type": "code",
   "outputs": [],
   "source": [
    "import os\n",
    "import sys\n",
    "import json\n",
    "from pathlib import Path\n",
    "from typing import Dict, Any, List, Union, Optional, Tuple\n",
    "\n",
    "import datamol as dm\n",
    "from rdkit import Chem\n",
    "\n",
    "from src.thompson_sampling import BaseReaction\n",
    "from src.ts_utils import construct_json\n",
    "from src.ts_main import run_ts, parse_input_dict"
   ],
   "metadata": {
    "collapsed": false
   },
   "id": "d825bd111d74daa2",
   "execution_count": null
  },
  {
   "cell_type": "code",
   "outputs": [],
   "source": [
    "TS_BASE_DIR = \"..\""
   ],
   "metadata": {
    "collapsed": false
   },
   "id": "70a606832b58a2b7",
   "execution_count": null
  },
  {
   "cell_type": "code",
   "outputs": [],
   "source": [],
   "metadata": {
    "collapsed": false
   },
   "id": "b27f53972d88e7a1"
  },
  {
   "cell_type": "markdown",
   "source": [
    "# Example 1"
   ],
   "metadata": {
    "collapsed": false
   },
   "id": "89355398a89e4c21"
  },
  {
   "cell_type": "code",
   "outputs": [],
   "source": [
    "reag_smiles = [Path(TS_BASE_DIR) / \"data\" / \"aminobenzoic_100.smi\",\n",
    "               Path(TS_BASE_DIR) / \"data\" / \"primary_amines_100.smi\",\n",
    "               Path(TS_BASE_DIR) / \"data\" / \"carboxylic_acids_100.smi\"]\n",
    "reaction = \"N[c:4][c:3]C(O)=O.[#6:1][NH2].[#6:2]C(=O)[OH]>>[C:2]c1n[c:4][c:3]c(=O)n1[C:1]\"\n",
    "evaluator_args = {\"query_smiles\" : \"COc1cccc2c(=O)n([C@@H]3C[C@@H](O)[C@@H](O)C3)c([C@@H](N)CNC(N)=O)nc12\"}\n",
    "\n",
    "quinazoline_dict = construct_json(reag_smiles, reaction, evaluator_args=evaluator_args)"
   ],
   "metadata": {
    "collapsed": false
   },
   "id": "75834308abb056a8",
   "execution_count": null
  },
  {
   "cell_type": "code",
   "outputs": [],
   "source": [
    "parse_input_dict(quinazoline_dict)\n",
    "q_df = run_ts(quinazoline_dict, inline_log=True, save_output=False)"
   ],
   "metadata": {
    "collapsed": false
   },
   "id": "4cd0597f451c2af",
   "execution_count": null
  },
  {
   "cell_type": "markdown",
   "source": [
    "# Example 2"
   ],
   "metadata": {
    "collapsed": false
   },
   "id": "bc6f23701fdd92a3"
  },
  {
   "cell_type": "code",
   "outputs": [],
   "source": [
    "reag_smiles: List[Path] = [\n",
    "    Path(TS_BASE_DIR) / \"data\" / \"data_ric\" / \"ald.smi\",\n",
    "    Path(TS_BASE_DIR) / \"data\" / \"data_ric\" / \"ammines.smi\"\n",
    "]\n",
    "reaction: Path = Path(TS_BASE_DIR) / \"data\" / \"data_ric\" / \"reaction.rxn\"\n",
    "evaluator_args = {\"query_smiles\" : \"OC(=O)c1ccc2nc(CN3CCC(CC3)c3cccc(OCc4ccc(cc4F)C#N)n3)n(C[C@@H]3CCO3)c2c1\"}\n",
    "\n",
    "custom_dict = construct_json(reag_smiles, reaction, evaluator_args=evaluator_args)"
   ],
   "metadata": {
    "collapsed": false
   },
   "id": "b9ffe00c0fc9687a",
   "execution_count": null
  },
  {
   "cell_type": "code",
   "outputs": [],
   "source": [
    "parse_input_dict(custom_dict)\n",
    "c_df = run_ts(custom_dict, inline_log=True, save_output=False)"
   ],
   "metadata": {
    "collapsed": false
   },
   "id": "8af47792f69ab6c3",
   "execution_count": null
  },
  {
   "cell_type": "markdown",
   "source": [
    "# Example 3"
   ],
   "metadata": {
    "collapsed": false
   },
   "id": "c5c5948baa657432"
  },
  {
   "cell_type": "code",
   "outputs": [],
   "source": [
    "reag_smiles: List[Path] = [\n",
    "    Path(TS_BASE_DIR) / \"data\" / \"data_ric\" / \"ald.smi\",\n",
    "    Path(TS_BASE_DIR) / \"data\" / \"data_ric\" / \"ammines.smi\"\n",
    "]\n",
    "\n",
    "reaction: Path = Path(TS_BASE_DIR) / \"data\" / \"data_ric\" / \"reaction.rxn\"\n",
    "\n",
    "probe_sdf = Path(TS_BASE_DIR) / \"data\" / \"data_ric\" / \"crystal.sdf\"\n",
    "evaluator_args = {\"query_molfile\" : str(probe_sdf)}\n",
    "\n",
    "custom_dict = construct_json(reag_smiles, reaction, evaluator_args=evaluator_args, evaluator_class=\"ROCSEvaluator\")"
   ],
   "metadata": {
    "collapsed": false
   },
   "id": "a7f91f2ff8ce4e77",
   "execution_count": null
  },
  {
   "cell_type": "code",
   "outputs": [],
   "source": [
    "parse_input_dict(custom_dict)"
   ],
   "metadata": {
    "collapsed": false
   },
   "id": "8a057933d93471d9",
   "execution_count": null
  },
  {
   "cell_type": "code",
   "outputs": [],
   "source": [
    "rocm_df = run_ts(custom_dict, inline_log=True, save_output=False)"
   ],
   "metadata": {
    "collapsed": false
   },
   "id": "d04593a27fbe019"
  },
  {
   "cell_type": "code",
   "outputs": [],
   "source": [],
   "metadata": {
    "collapsed": false
   },
   "id": "49390172fc1ebfc6"
  },
  {
   "cell_type": "code",
   "outputs": [],
   "source": [],
   "metadata": {
    "collapsed": false
   },
   "id": "c257dc052624b74"
  },
  {
   "cell_type": "markdown",
   "source": [
    "# Example 4"
   ],
   "metadata": {
    "collapsed": false
   },
   "id": "92ba90abe4f0e363"
  },
  {
   "cell_type": "code",
   "outputs": [],
   "source": [
    "class MyReact(BaseReaction):\n",
    "    def run_reaction(self, reagents: List[Chem.Mol]) -> Tuple[List[Chem.Mol]]:\n",
    "        rxn = dm.reactions.rxn_from_smarts(\"N[c:4][c:3]C(O)=O.[#6:1][NH2].[#6:2]C(=O)[OH]>>[C:2]c1n[c:4][c:3]c(=O)n1[C:1]\")\n",
    "        prod = rxn.RunReactants(reagents)\n",
    "        return prod"
   ],
   "metadata": {
    "collapsed": false
   },
   "id": "72799761f7f29a92",
   "execution_count": null
  },
  {
   "cell_type": "code",
   "outputs": [],
   "source": [
    "reag_smiles = [Path(TS_BASE_DIR) / \"data\" / \"aminobenzoic_100.smi\",\n",
    "               Path(TS_BASE_DIR) / \"data\" / \"primary_amines_100.smi\",\n",
    "               Path(TS_BASE_DIR) / \"data\" / \"carboxylic_acids_100.smi\"]\n",
    "\n",
    "evaluator_args = {\"query_smiles\" : \"CC1=CC=CC(=C1)C(NC(=O)C=C)C(=O)NCC1=CC=CC(OCC2=CC=CC=C2)=C1\"}\n",
    "\n",
    "quinazoline_dict = construct_json(reag_smiles, MyReact(), evaluator_args=evaluator_args)"
   ],
   "metadata": {
    "collapsed": false
   },
   "id": "7dd84d6d2ae42d35",
   "execution_count": null
  },
  {
   "cell_type": "code",
   "outputs": [],
   "source": [
    "parse_input_dict(quinazoline_dict)"
   ],
   "metadata": {
    "collapsed": false
   },
   "id": "716a2746f43bb11a",
   "execution_count": null
  },
  {
   "cell_type": "code",
   "outputs": [],
   "source": [
    "run_ts(quinazoline_dict, inline_log=False, save_output=False)"
   ],
   "metadata": {
    "collapsed": false
   },
   "id": "1802207bd70c8e54",
   "execution_count": null
  },
  {
   "cell_type": "markdown",
   "source": [
    "# Example 5"
   ],
   "metadata": {
    "collapsed": false
   },
   "id": "fa19d4dba3d2d0f1"
  },
  {
   "cell_type": "code",
   "outputs": [],
   "source": [
    "class MyReact(BaseReaction):\n",
    "    def run_reaction(self, reagents: List[Chem.Mol]) -> Tuple[List[Chem.Mol]]:\n",
    "        reaction: Path = Path(TS_BASE_DIR) / \"data\" / \"data_ric\" / \"reaction.rxn\"\n",
    "        \n",
    "        rxn = dm.reactions.rxn_from_block_file(str(reaction))\n",
    "        prod = rxn.RunReactants(reagents)\n",
    "        return prod"
   ],
   "metadata": {
    "collapsed": false
   },
   "id": "dd408bc6e150cf8",
   "execution_count": null
  },
  {
   "cell_type": "code",
   "outputs": [],
   "source": [
    "reag_smiles: List[Path] = [\n",
    "    Path(TS_BASE_DIR) / \"data\" / \"data_ric\" / \"ald.smi\",\n",
    "    Path(TS_BASE_DIR) / \"data\" / \"data_ric\" / \"ammines.smi\"\n",
    "]"
   ],
   "metadata": {
    "collapsed": false
   },
   "id": "ee54d067fd8c5ca4",
   "execution_count": null
  },
  {
   "cell_type": "code",
   "outputs": [],
   "source": [
    "probe_sdf = Path(TS_BASE_DIR) / \"data\" / \"data_ric\" / \"crystal.sdf\"\n",
    "evaluator_args = {\"query_molfile\" : str(probe_sdf)}\n",
    "\n",
    "custom_dict = construct_json(reag_smiles, MyReact(), evaluator_args=evaluator_args, evaluator_class=\"ROCSEvaluator\")"
   ],
   "metadata": {
    "collapsed": false
   },
   "id": "cd0313d8fea2efd",
   "execution_count": null
  },
  {
   "cell_type": "code",
   "outputs": [],
   "source": [
    "parse_input_dict(custom_dict)"
   ],
   "metadata": {
    "collapsed": false
   },
   "id": "eb311e04ed3ab319",
   "execution_count": null
  },
  {
   "cell_type": "code",
   "outputs": [],
   "source": [
    "rocm_df = run_ts(custom_dict, inline_log=True, save_output=False)"
   ],
   "metadata": {
    "collapsed": false
   },
   "id": "5da2c76678b80e41"
  },
  {
   "cell_type": "code",
   "outputs": [],
   "source": [],
   "metadata": {
    "collapsed": false
   },
   "id": "925786a88db955d3"
  }
 ],
 "metadata": {
  "kernelspec": {
   "display_name": "Python 3",
   "language": "python",
   "name": "python3"
  },
  "language_info": {
   "codemirror_mode": {
    "name": "ipython",
    "version": 2
   },
   "file_extension": ".py",
   "mimetype": "text/x-python",
   "name": "python",
   "nbconvert_exporter": "python",
   "pygments_lexer": "ipython2",
   "version": "2.7.6"
  }
 },
 "nbformat": 4,
 "nbformat_minor": 5
}
