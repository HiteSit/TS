{
 "cells": [
  {
   "cell_type": "code",
   "outputs": [],
   "source": [
    "import os\n",
    "import sys\n",
    "import json\n",
    "from src.ts_main import run_ts, parse_input_dict"
   ],
   "metadata": {
    "collapsed": false
   },
   "id": "d825bd111d74daa2",
   "execution_count": null
  },
  {
   "cell_type": "code",
   "outputs": [],
   "source": [
    "sys.path.append(\"./src\")"
   ],
   "metadata": {
    "collapsed": false
   },
   "id": "ba84dec3281f52fe",
   "execution_count": null
  },
  {
   "cell_type": "code",
   "outputs": [],
   "source": [
    "TS_BASE_DIR = \"..\""
   ],
   "metadata": {
    "collapsed": false
   },
   "id": "70a606832b58a2b7",
   "execution_count": null
  },
  {
   "cell_type": "code",
   "execution_count": null,
   "id": "initial_id",
   "metadata": {
    "collapsed": true
   },
   "outputs": [],
   "source": [
    "quinazoline_json = \"\"\"{\n",
    "\"reagent_file_list\": [\n",
    "        \"TS_BASE_DIR/data/aminobenzoic_100.smi\",\n",
    "        \"TS_BASE_DIR/data/primary_amines_100.smi\",\n",
    "        \"TS_BASE_DIR/data/carboxylic_acids_100.smi\"\n",
    "    ],\n",
    "    \"reaction_smarts\": \"N[c:4][c:3]C(O)=O.[#6:1][NH2].[#6:2]C(=O)[OH]>>[C:2]c1n[c:4][c:3]c(=O)n1[C:1]\",\n",
    "    \"num_warmup_trials\": 10,\n",
    "    \"num_ts_iterations\": 5000,\n",
    "    \"evaluator_class_name\": \"FPEvaluator\",\n",
    "    \"evaluator_arg\": {\"query_smiles\" : \"COc1cccc2c(=O)n([C@@H]3C[C@@H](O)[C@@H](O)C3)c([C@@H](N)CNC(N)=O)nc12\"},\n",
    "    \"ts_mode\": \"maximize\",\n",
    "    \"log_filename\": \"ts_logs.txt\",\n",
    "    \"results_filename\": \"ts_results.csv\"\n",
    "}\"\"\".replace(\"TS_BASE_DIR\", TS_BASE_DIR)\n",
    "quinazoline_dict = json.loads(quinazoline_json)"
   ]
  },
  {
   "cell_type": "code",
   "outputs": [],
   "source": [
    "# with open(\"tmp.json\", \"w\") as f:\n",
    "#     json.dump(quinazoline_dict, f, indent=4)"
   ],
   "metadata": {
    "collapsed": false
   },
   "id": "597c82ee3d22cb60",
   "execution_count": null
  },
  {
   "cell_type": "code",
   "outputs": [],
   "source": [
    "parse_input_dict(quinazoline_dict)"
   ],
   "metadata": {
    "collapsed": false
   },
   "id": "99848d076f8e8d83",
   "execution_count": null
  },
  {
   "cell_type": "code",
   "outputs": [],
   "source": [
    "run_ts(quinazoline_dict)"
   ],
   "metadata": {
    "collapsed": false
   },
   "id": "bd8c508f41d96f18",
   "execution_count": null
  },
  {
   "cell_type": "code",
   "outputs": [],
   "source": [],
   "metadata": {
    "collapsed": false
   },
   "id": "9a016709dee627ab"
  }
 ],
 "metadata": {
  "kernelspec": {
   "display_name": "Python 3",
   "language": "python",
   "name": "python3"
  },
  "language_info": {
   "codemirror_mode": {
    "name": "ipython",
    "version": 2
   },
   "file_extension": ".py",
   "mimetype": "text/x-python",
   "name": "python",
   "nbconvert_exporter": "python",
   "pygments_lexer": "ipython2",
   "version": "2.7.6"
  }
 },
 "nbformat": 4,
 "nbformat_minor": 5
}
